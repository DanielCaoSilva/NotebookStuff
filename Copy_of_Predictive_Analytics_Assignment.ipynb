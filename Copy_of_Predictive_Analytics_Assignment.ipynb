{
 "cells": [
  {
   "cell_type": "code",
   "execution_count": 1,
   "metadata": {
    "id": "0g6rvfQz3f63"
   },
   "outputs": [],
   "source": [
    "##############################################\n",
    "# Programmer Name:  \n",
    "# Class:\n",
    "# Programming Assignment \n",
    "# Date:\n",
    "#\n",
    "#\n",
    "# Description: \n",
    "##############################################"
   ]
  },
  {
   "cell_type": "markdown",
   "metadata": {
    "id": "s8DJcp2c32at"
   },
   "source": [
    "Use the below [auto-mpg][mpg] data to answer the below questions:\n",
    "\n",
    "\n",
    "> \n",
    "\n",
    "\n",
    "----\n",
    "[mpg]:https://archive.ics.uci.edu/ml/datasets/auto+mpg"
   ]
  },
  {
   "cell_type": "code",
   "execution_count": 2,
   "metadata": {
    "id": "SpVOgGkc_8cm"
   },
   "outputs": [],
   "source": [
    "url = 'https://raw.githubusercontent.com/plotly/datasets/master/auto-mpg.csv'"
   ]
  },
  {
   "cell_type": "code",
   "execution_count": 3,
   "metadata": {
    "id": "VM_20VK1t8Uy"
   },
   "outputs": [],
   "source": [
    "import pandas as pd\n",
    "mpg = pd.read_csv(url)"
   ]
  },
  {
   "cell_type": "code",
   "execution_count": 4,
   "metadata": {
    "colab": {
     "base_uri": "https://localhost:8080/",
     "height": 206
    },
    "id": "obyS3uT9uDjx",
    "outputId": "768cdfc1-159d-4bba-c9d0-1d1fc7aadb89"
   },
   "outputs": [
    {
     "data": {
      "text/html": [
       "<div>\n",
       "<style scoped>\n",
       "    .dataframe tbody tr th:only-of-type {\n",
       "        vertical-align: middle;\n",
       "    }\n",
       "\n",
       "    .dataframe tbody tr th {\n",
       "        vertical-align: top;\n",
       "    }\n",
       "\n",
       "    .dataframe thead th {\n",
       "        text-align: right;\n",
       "    }\n",
       "</style>\n",
       "<table border=\"1\" class=\"dataframe\">\n",
       "  <thead>\n",
       "    <tr style=\"text-align: right;\">\n",
       "      <th></th>\n",
       "      <th>mpg</th>\n",
       "      <th>cylinders</th>\n",
       "      <th>displacement</th>\n",
       "      <th>horsepower</th>\n",
       "      <th>weight</th>\n",
       "      <th>acceleration</th>\n",
       "      <th>model-year</th>\n",
       "    </tr>\n",
       "  </thead>\n",
       "  <tbody>\n",
       "    <tr>\n",
       "      <th>0</th>\n",
       "      <td>18.0</td>\n",
       "      <td>8</td>\n",
       "      <td>307.0</td>\n",
       "      <td>130.0</td>\n",
       "      <td>3504</td>\n",
       "      <td>12.0</td>\n",
       "      <td>70</td>\n",
       "    </tr>\n",
       "    <tr>\n",
       "      <th>1</th>\n",
       "      <td>15.0</td>\n",
       "      <td>8</td>\n",
       "      <td>350.0</td>\n",
       "      <td>165.0</td>\n",
       "      <td>3693</td>\n",
       "      <td>11.5</td>\n",
       "      <td>70</td>\n",
       "    </tr>\n",
       "    <tr>\n",
       "      <th>2</th>\n",
       "      <td>18.0</td>\n",
       "      <td>8</td>\n",
       "      <td>318.0</td>\n",
       "      <td>150.0</td>\n",
       "      <td>3436</td>\n",
       "      <td>11.0</td>\n",
       "      <td>70</td>\n",
       "    </tr>\n",
       "    <tr>\n",
       "      <th>3</th>\n",
       "      <td>16.0</td>\n",
       "      <td>8</td>\n",
       "      <td>304.0</td>\n",
       "      <td>150.0</td>\n",
       "      <td>3433</td>\n",
       "      <td>12.0</td>\n",
       "      <td>70</td>\n",
       "    </tr>\n",
       "    <tr>\n",
       "      <th>4</th>\n",
       "      <td>17.0</td>\n",
       "      <td>8</td>\n",
       "      <td>302.0</td>\n",
       "      <td>140.0</td>\n",
       "      <td>3449</td>\n",
       "      <td>10.5</td>\n",
       "      <td>70</td>\n",
       "    </tr>\n",
       "  </tbody>\n",
       "</table>\n",
       "</div>"
      ],
      "text/plain": [
       "    mpg  cylinders  displacement  horsepower  weight  acceleration  model-year\n",
       "0  18.0          8         307.0       130.0    3504          12.0          70\n",
       "1  15.0          8         350.0       165.0    3693          11.5          70\n",
       "2  18.0          8         318.0       150.0    3436          11.0          70\n",
       "3  16.0          8         304.0       150.0    3433          12.0          70\n",
       "4  17.0          8         302.0       140.0    3449          10.5          70"
      ]
     },
     "execution_count": 4,
     "metadata": {},
     "output_type": "execute_result"
    }
   ],
   "source": [
    "mpg.head()"
   ]
  },
  {
   "cell_type": "markdown",
   "metadata": {
    "id": "Ojg--2D95VIt"
   },
   "source": [
    "### **Setup your notebook but importing the required packages and settings in the below cell**\n",
    "- Enable inline graph, set seaborn style to white, ignore warning and import required packages"
   ]
  },
  {
   "cell_type": "code",
   "execution_count": 5,
   "metadata": {
    "id": "regJcuoc5cCY"
   },
   "outputs": [],
   "source": [
    "%matplotlib inline\n",
    "\n",
    "import pandas as pd\n",
    "import numpy as np\n",
    "import matplotlib.pyplot as plt\n",
    "import seaborn as sns\n",
    "\n",
    "import warnings\n",
    "warnings.filterwarnings(\"ignore\")\n",
    "\n",
    "sns.set(style=\"white\")\n"
   ]
  },
  {
   "cell_type": "markdown",
   "metadata": {
    "id": "SuJc6yfq4nEP"
   },
   "source": [
    "### **Load the data into pandas data frame `auto` and display the first 5 rows**"
   ]
  },
  {
   "cell_type": "code",
   "execution_count": 6,
   "metadata": {
    "colab": {
     "base_uri": "https://localhost:8080/",
     "height": 206
    },
    "id": "4aM8_zLP3ihW",
    "outputId": "2e03d20e-4c1b-49d8-f6a2-0b2f8fc397b1"
   },
   "outputs": [
    {
     "data": {
      "text/html": [
       "<div>\n",
       "<style scoped>\n",
       "    .dataframe tbody tr th:only-of-type {\n",
       "        vertical-align: middle;\n",
       "    }\n",
       "\n",
       "    .dataframe tbody tr th {\n",
       "        vertical-align: top;\n",
       "    }\n",
       "\n",
       "    .dataframe thead th {\n",
       "        text-align: right;\n",
       "    }\n",
       "</style>\n",
       "<table border=\"1\" class=\"dataframe\">\n",
       "  <thead>\n",
       "    <tr style=\"text-align: right;\">\n",
       "      <th></th>\n",
       "      <th>mpg</th>\n",
       "      <th>cylinders</th>\n",
       "      <th>displacement</th>\n",
       "      <th>horsepower</th>\n",
       "      <th>weight</th>\n",
       "      <th>acceleration</th>\n",
       "      <th>model_year</th>\n",
       "      <th>origin</th>\n",
       "      <th>name</th>\n",
       "    </tr>\n",
       "  </thead>\n",
       "  <tbody>\n",
       "    <tr>\n",
       "      <th>0</th>\n",
       "      <td>18.0</td>\n",
       "      <td>8</td>\n",
       "      <td>307.0</td>\n",
       "      <td>130.0</td>\n",
       "      <td>3504</td>\n",
       "      <td>12.0</td>\n",
       "      <td>70</td>\n",
       "      <td>usa</td>\n",
       "      <td>chevrolet chevelle malibu</td>\n",
       "    </tr>\n",
       "    <tr>\n",
       "      <th>1</th>\n",
       "      <td>15.0</td>\n",
       "      <td>8</td>\n",
       "      <td>350.0</td>\n",
       "      <td>165.0</td>\n",
       "      <td>3693</td>\n",
       "      <td>11.5</td>\n",
       "      <td>70</td>\n",
       "      <td>usa</td>\n",
       "      <td>buick skylark 320</td>\n",
       "    </tr>\n",
       "    <tr>\n",
       "      <th>2</th>\n",
       "      <td>18.0</td>\n",
       "      <td>8</td>\n",
       "      <td>318.0</td>\n",
       "      <td>150.0</td>\n",
       "      <td>3436</td>\n",
       "      <td>11.0</td>\n",
       "      <td>70</td>\n",
       "      <td>usa</td>\n",
       "      <td>plymouth satellite</td>\n",
       "    </tr>\n",
       "    <tr>\n",
       "      <th>3</th>\n",
       "      <td>16.0</td>\n",
       "      <td>8</td>\n",
       "      <td>304.0</td>\n",
       "      <td>150.0</td>\n",
       "      <td>3433</td>\n",
       "      <td>12.0</td>\n",
       "      <td>70</td>\n",
       "      <td>usa</td>\n",
       "      <td>amc rebel sst</td>\n",
       "    </tr>\n",
       "    <tr>\n",
       "      <th>4</th>\n",
       "      <td>17.0</td>\n",
       "      <td>8</td>\n",
       "      <td>302.0</td>\n",
       "      <td>140.0</td>\n",
       "      <td>3449</td>\n",
       "      <td>10.5</td>\n",
       "      <td>70</td>\n",
       "      <td>usa</td>\n",
       "      <td>ford torino</td>\n",
       "    </tr>\n",
       "  </tbody>\n",
       "</table>\n",
       "</div>"
      ],
      "text/plain": [
       "    mpg  cylinders  displacement  horsepower  weight  acceleration  \\\n",
       "0  18.0          8         307.0       130.0    3504          12.0   \n",
       "1  15.0          8         350.0       165.0    3693          11.5   \n",
       "2  18.0          8         318.0       150.0    3436          11.0   \n",
       "3  16.0          8         304.0       150.0    3433          12.0   \n",
       "4  17.0          8         302.0       140.0    3449          10.5   \n",
       "\n",
       "   model_year origin                       name  \n",
       "0          70    usa  chevrolet chevelle malibu  \n",
       "1          70    usa          buick skylark 320  \n",
       "2          70    usa         plymouth satellite  \n",
       "3          70    usa              amc rebel sst  \n",
       "4          70    usa                ford torino  "
      ]
     },
     "execution_count": 6,
     "metadata": {},
     "output_type": "execute_result"
    }
   ],
   "source": [
    "auto = sns.load_dataset('mpg')\n",
    "auto.head()"
   ]
  },
  {
   "cell_type": "markdown",
   "metadata": {
    "id": "Ue1OKlLaAQXu"
   },
   "source": [
    "## **Exploratory Data Analysis (EDA) Section**\n"
   ]
  },
  {
   "cell_type": "markdown",
   "metadata": {
    "id": "5muvRU_p454V"
   },
   "source": [
    "### **Check for missing values and remove rows with missing values**"
   ]
  },
  {
   "cell_type": "code",
   "execution_count": 7,
   "metadata": {
    "colab": {
     "base_uri": "https://localhost:8080/"
    },
    "id": "6zMBm_0q5A4t",
    "outputId": "84ad97de-3c44-431f-84c7-f61a11cf828b"
   },
   "outputs": [
    {
     "data": {
      "text/plain": [
       "mpg             0\n",
       "cylinders       0\n",
       "displacement    0\n",
       "horsepower      6\n",
       "weight          0\n",
       "acceleration    0\n",
       "model_year      0\n",
       "origin          0\n",
       "name            0\n",
       "dtype: int64"
      ]
     },
     "execution_count": 7,
     "metadata": {},
     "output_type": "execute_result"
    }
   ],
   "source": [
    "auto.isnull().sum()\n"
   ]
  },
  {
   "cell_type": "code",
   "execution_count": 8,
   "metadata": {
    "id": "xUgoMtqfNulU"
   },
   "outputs": [],
   "source": [
    "\n",
    "auto = auto.dropna()\n",
    "\n"
   ]
  },
  {
   "cell_type": "code",
   "execution_count": 9,
   "metadata": {
    "colab": {
     "base_uri": "https://localhost:8080/"
    },
    "id": "VlbfmbjSOVrM",
    "outputId": "f2b734c3-8295-4816-e404-12fc1547ffb3"
   },
   "outputs": [
    {
     "data": {
      "text/plain": [
       "mpg             0\n",
       "cylinders       0\n",
       "displacement    0\n",
       "horsepower      0\n",
       "weight          0\n",
       "acceleration    0\n",
       "model_year      0\n",
       "origin          0\n",
       "name            0\n",
       "dtype: int64"
      ]
     },
     "execution_count": 9,
     "metadata": {},
     "output_type": "execute_result"
    }
   ],
   "source": [
    "auto.isnull().sum()"
   ]
  },
  {
   "cell_type": "markdown",
   "metadata": {
    "id": "yf2YXoBV5Eug"
   },
   "source": [
    "### **Calculate the 5 number summary for the `mpg` column**"
   ]
  },
  {
   "cell_type": "code",
   "execution_count": 10,
   "metadata": {
    "colab": {
     "base_uri": "https://localhost:8080/"
    },
    "id": "II_Vpn5PQCnM",
    "outputId": "250dc0c2-fce7-44c0-b511-f9963070c0e7"
   },
   "outputs": [
    {
     "name": "stdout",
     "output_type": "stream",
     "text": [
      "0      18.0\n",
      "1      15.0\n",
      "2      18.0\n",
      "3      16.0\n",
      "4      17.0\n",
      "       ... \n",
      "393    27.0\n",
      "394    44.0\n",
      "395    32.0\n",
      "396    28.0\n",
      "397    31.0\n",
      "Name: mpg, Length: 392, dtype: float64\n"
     ]
    }
   ],
   "source": [
    "print(auto.mpg)"
   ]
  },
  {
   "cell_type": "code",
   "execution_count": 11,
   "metadata": {
    "colab": {
     "base_uri": "https://localhost:8080/"
    },
    "id": "WaYf8Uqx5K17",
    "outputId": "334198ec-a1eb-477b-8f52-62284476a422"
   },
   "outputs": [
    {
     "name": "stdout",
     "output_type": "stream",
     "text": [
      "Min: 9.000\n",
      "Q1: 17.000\n",
      "Median: 22.750\n",
      "Q3: 29.000\n",
      "Max: 46.600\n"
     ]
    }
   ],
   "source": [
    "from numpy import percentile\n",
    "quartiles = percentile(auto.mpg, [25,50,75])\n",
    "# print 5-number summary\n",
    "print('Min: %.3f' % auto.mpg.min())\n",
    "print('Q1: %.3f' % quartiles[0])\n",
    "print('Median: %.3f' % quartiles[1])\n",
    "print('Q3: %.3f' % quartiles[2])\n",
    "print('Max: %.3f' % auto.mpg.max())\n"
   ]
  },
  {
   "cell_type": "markdown",
   "metadata": {
    "id": "a7x2OjnW5MDT"
   },
   "source": [
    "### **Create a histogram for `mpg` column with rugplot as shwon below**"
   ]
  },
  {
   "cell_type": "code",
   "execution_count": 12,
   "metadata": {
    "colab": {
     "base_uri": "https://localhost:8080/",
     "height": 381
    },
    "id": "qNcJKCQQ6Tw9",
    "outputId": "03d25f98-9685-4085-e42f-b6dd578cb424"
   },
   "outputs": [
    {
     "data": {
      "image/png": "[encoded data removed]",
      "text/plain": [
       "<Figure size 360x360 with 1 Axes>"
      ]
     },
     "metadata": {},
     "output_type": "display_data"
    }
   ],
   "source": [
    "sns.displot(auto['mpg'], rug=True, rug_kws={'color': 'r', 'alpha':0.5, 'height': 0.07}, alpha=0.5)\n",
    "plt.title('MPG Histogram')\n",
    "plt.xlabel('MPG', fontsize=12)\n",
    "plt.ylabel('Frequency')\n",
    "\n",
    "#clean up final results\n",
    "sns.despine(trim=True)"
   ]
  },
  {
   "cell_type": "markdown",
   "metadata": {
    "id": "zIOSKqpP7gQq"
   },
   "source": [
    "### Create a box plot for mpg vs Cylinders as shown below"
   ]
  },
  {
   "cell_type": "code",
   "execution_count": 13,
   "metadata": {
    "colab": {
     "base_uri": "https://localhost:8080/",
     "height": 639
    },
    "id": "7U3DZzLU6qzj",
    "outputId": "bfdfcac0-c356-4d83-8bd3-f8299c7eae73"
   },
   "outputs": [
    {
     "data": {
      "image/png": "[encoded data removed]",
      "text/plain": [
       "<Figure size 720x720 with 1 Axes>"
      ]
     },
     "metadata": {},
     "output_type": "display_data"
    }
   ],
   "source": [
    "# Compare several distributions by using boxplots\n",
    "fig, axs = plt.subplots(figsize=(10, 10))\n",
    "\n",
    "# df = auto[\"cylinders\"]\n",
    "# dy = auto[\"mpg\"]\n",
    "# print(df)\n",
    "# Boxplot\n",
    "sns.boxplot(ax=axs, x='cylinders', y='mpg', data=auto)\n",
    "\n",
    "# # Define x-axis limits and label\n",
    "axs.set_ylim(-2, 62)\n",
    "axs.set_xlabel('Cylinders', fontsize=18)\n",
    "axs.set_ylabel('MPG', fontsize=18)\n",
    "\n",
    "# # Title each plot\n",
    "axs.set_title('MPG Comparison', ha='center', fontsize=20)\n",
    "\n",
    "# Clean up each plot\n",
    "sns.despine(ax=axs, offset=2, trim=True)"
   ]
  },
  {
   "cell_type": "markdown",
   "metadata": {
    "id": "ls0joTuo9Eia"
   },
   "source": [
    "## **Predictive Modeling Section**"
   ]
  },
  {
   "cell_type": "markdown",
   "metadata": {
    "id": "j8q9GHmJ8SWN"
   },
   "source": [
    "### **Build a linear regression model to predict the dependant variable `mpg`.** \n",
    "- Use the rest of the columns as indpendant variables.\n",
    "- In the below cell create two variables `dep_data` and `ind_data`\n",
    "- Display the shapes of the two variables"
   ]
  },
  {
   "cell_type": "code",
   "execution_count": 14,
   "metadata": {
    "colab": {
     "base_uri": "https://localhost:8080/",
     "height": 206
    },
    "id": "TeFORaPCcBh2",
    "outputId": "24f6854c-5d86-45af-c9f5-dc2956a98ddc"
   },
   "outputs": [
    {
     "data": {
      "text/html": [
       "<div>\n",
       "<style scoped>\n",
       "    .dataframe tbody tr th:only-of-type {\n",
       "        vertical-align: middle;\n",
       "    }\n",
       "\n",
       "    .dataframe tbody tr th {\n",
       "        vertical-align: top;\n",
       "    }\n",
       "\n",
       "    .dataframe thead th {\n",
       "        text-align: right;\n",
       "    }\n",
       "</style>\n",
       "<table border=\"1\" class=\"dataframe\">\n",
       "  <thead>\n",
       "    <tr style=\"text-align: right;\">\n",
       "      <th></th>\n",
       "      <th>mpg</th>\n",
       "      <th>cylinders</th>\n",
       "      <th>displacement</th>\n",
       "      <th>horsepower</th>\n",
       "      <th>weight</th>\n",
       "      <th>acceleration</th>\n",
       "      <th>model_year</th>\n",
       "      <th>name</th>\n",
       "      <th>origin_europe</th>\n",
       "      <th>origin_japan</th>\n",
       "      <th>origin_usa</th>\n",
       "    </tr>\n",
       "  </thead>\n",
       "  <tbody>\n",
       "    <tr>\n",
       "      <th>0</th>\n",
       "      <td>18.0</td>\n",
       "      <td>8</td>\n",
       "      <td>307.0</td>\n",
       "      <td>130.0</td>\n",
       "      <td>3504</td>\n",
       "      <td>12.0</td>\n",
       "      <td>70</td>\n",
       "      <td>chevrolet chevelle malibu</td>\n",
       "      <td>0</td>\n",
       "      <td>0</td>\n",
       "      <td>1</td>\n",
       "    </tr>\n",
       "    <tr>\n",
       "      <th>1</th>\n",
       "      <td>15.0</td>\n",
       "      <td>8</td>\n",
       "      <td>350.0</td>\n",
       "      <td>165.0</td>\n",
       "      <td>3693</td>\n",
       "      <td>11.5</td>\n",
       "      <td>70</td>\n",
       "      <td>buick skylark 320</td>\n",
       "      <td>0</td>\n",
       "      <td>0</td>\n",
       "      <td>1</td>\n",
       "    </tr>\n",
       "    <tr>\n",
       "      <th>2</th>\n",
       "      <td>18.0</td>\n",
       "      <td>8</td>\n",
       "      <td>318.0</td>\n",
       "      <td>150.0</td>\n",
       "      <td>3436</td>\n",
       "      <td>11.0</td>\n",
       "      <td>70</td>\n",
       "      <td>plymouth satellite</td>\n",
       "      <td>0</td>\n",
       "      <td>0</td>\n",
       "      <td>1</td>\n",
       "    </tr>\n",
       "    <tr>\n",
       "      <th>3</th>\n",
       "      <td>16.0</td>\n",
       "      <td>8</td>\n",
       "      <td>304.0</td>\n",
       "      <td>150.0</td>\n",
       "      <td>3433</td>\n",
       "      <td>12.0</td>\n",
       "      <td>70</td>\n",
       "      <td>amc rebel sst</td>\n",
       "      <td>0</td>\n",
       "      <td>0</td>\n",
       "      <td>1</td>\n",
       "    </tr>\n",
       "    <tr>\n",
       "      <th>4</th>\n",
       "      <td>17.0</td>\n",
       "      <td>8</td>\n",
       "      <td>302.0</td>\n",
       "      <td>140.0</td>\n",
       "      <td>3449</td>\n",
       "      <td>10.5</td>\n",
       "      <td>70</td>\n",
       "      <td>ford torino</td>\n",
       "      <td>0</td>\n",
       "      <td>0</td>\n",
       "      <td>1</td>\n",
       "    </tr>\n",
       "  </tbody>\n",
       "</table>\n",
       "</div>"
      ],
      "text/plain": [
       "    mpg  cylinders  displacement  horsepower  weight  acceleration  \\\n",
       "0  18.0          8         307.0       130.0    3504          12.0   \n",
       "1  15.0          8         350.0       165.0    3693          11.5   \n",
       "2  18.0          8         318.0       150.0    3436          11.0   \n",
       "3  16.0          8         304.0       150.0    3433          12.0   \n",
       "4  17.0          8         302.0       140.0    3449          10.5   \n",
       "\n",
       "   model_year                       name  origin_europe  origin_japan  \\\n",
       "0          70  chevrolet chevelle malibu              0             0   \n",
       "1          70          buick skylark 320              0             0   \n",
       "2          70         plymouth satellite              0             0   \n",
       "3          70              amc rebel sst              0             0   \n",
       "4          70                ford torino              0             0   \n",
       "\n",
       "   origin_usa  \n",
       "0           1  \n",
       "1           1  \n",
       "2           1  \n",
       "3           1  \n",
       "4           1  "
      ]
     },
     "execution_count": 14,
     "metadata": {},
     "output_type": "execute_result"
    }
   ],
   "source": [
    "#convert strings into numbers\n",
    "auto.head()\n",
    "auto = pd.get_dummies(auto, columns=['origin'])\n",
    "auto.head()\n",
    "#Not sure how to do name, but I don't want to have a crazy long equation for the name"
   ]
  },
  {
   "cell_type": "code",
   "execution_count": 15,
   "metadata": {
    "colab": {
     "base_uri": "https://localhost:8080/"
    },
    "id": "fZOUt1KW8Ofw",
    "outputId": "547ad524-9ed1-4649-f08b-639e5f654a90"
   },
   "outputs": [
    {
     "name": "stdout",
     "output_type": "stream",
     "text": [
      "indepedent shape = (392, 9)\n",
      "dependent shape =  (392,)\n"
     ]
    }
   ],
   "source": [
    "# auto['origin'] = auto['origin'].astype(int)\n",
    "# auto['name'] = auto['name'].astype(int)\n",
    "ind_data = auto[{'cylinders', 'displacement', 'horsepower', 'weight', 'acceleration','model_year', 'origin_europe','origin_japan', 'origin_usa'}].values\n",
    "dep_data = auto['mpg']\n",
    "print(\"indepedent shape =\", ind_data.shape)\n",
    "print(\"dependent shape = \", dep_data.shape)"
   ]
  },
  {
   "cell_type": "markdown",
   "metadata": {
    "id": "Sm8SJNf385fI"
   },
   "source": [
    "### **Split the data into training and testing use 0.3 for test size.**"
   ]
  },
  {
   "cell_type": "code",
   "execution_count": 16,
   "metadata": {
    "id": "X1eEQDNQ8mVD"
   },
   "outputs": [],
   "source": [
    "from sklearn.model_selection import train_test_split\n"
   ]
  },
  {
   "cell_type": "code",
   "execution_count": 17,
   "metadata": {
    "id": "ssSNyBtVYlX8"
   },
   "outputs": [],
   "source": [
    "ind_data_train, ind_data_test, dep_data_train, dep_data_test = train_test_split(ind_data, dep_data, test_size=0.3, random_state=42)"
   ]
  },
  {
   "cell_type": "markdown",
   "metadata": {
    "id": "2I7Cdq1B9T2J"
   },
   "source": [
    "### **Fit a Multi Linear Regression (MLR) model using the train data and compute the (Coefficient of Determination)**\n"
   ]
  },
  {
   "cell_type": "code",
   "execution_count": 18,
   "metadata": {
    "id": "hnagyU4Z9aRo"
   },
   "outputs": [],
   "source": [
    "from sklearn.linear_model import LinearRegression\n",
    "model = LinearRegression()"
   ]
  },
  {
   "cell_type": "code",
   "execution_count": 19,
   "metadata": {
    "colab": {
     "base_uri": "https://localhost:8080/"
    },
    "id": "YLrXt5OWXnlt",
    "outputId": "da678dc3-e39f-4042-af2c-b0a5b24ce9bf"
   },
   "outputs": [
    {
     "data": {
      "text/plain": [
       "LinearRegression()"
      ]
     },
     "execution_count": 19,
     "metadata": {},
     "output_type": "execute_result"
    }
   ],
   "source": [
    "model.fit(ind_data_train, dep_data_train)"
   ]
  },
  {
   "cell_type": "code",
   "execution_count": 20,
   "metadata": {
    "colab": {
     "base_uri": "https://localhost:8080/"
    },
    "id": "tQYYLznoXsb8",
    "outputId": "b8f1d51b-297b-478c-ca25-cf5058822d24"
   },
   "outputs": [
    {
     "data": {
      "text/plain": [
       "-15.499852842200248"
      ]
     },
     "execution_count": 20,
     "metadata": {},
     "output_type": "execute_result"
    }
   ],
   "source": [
    "model.intercept_"
   ]
  },
  {
   "cell_type": "code",
   "execution_count": 21,
   "metadata": {
    "colab": {
     "base_uri": "https://localhost:8080/"
    },
    "id": "rBIgU-Eg7iV8",
    "outputId": "8950a0c6-407b-40ce-cd3c-f073c5d9828f"
   },
   "outputs": [
    {
     "name": "stdout",
     "output_type": "stream",
     "text": [
      "mpg = -15.50 +  1.13*cylinders +  0.78*displacement + -0.33*horsepower +  0.04*weight + -0.01*acceleration + -2.23*model_year + -0.03*origin_europe +  0.02*origin_japan +  1.10*origin_usa\n"
     ]
    }
   ],
   "source": [
    "print(f'mpg = {model.intercept_:5.2f} + {model.coef_[0]:5.2f}*cylinders + {model.coef_[1]:5.2f}*displacement + {model.coef_[2]:5.2f}*horsepower + {model.coef_[3]:5.2f}*weight + {model.coef_[4]:5.2f}*acceleration + {model.coef_[5]:5.2f}*model_year + {model.coef_[6]:5.2f}*origin_europe + {model.coef_[7]:5.2f}*origin_japan + {model.coef_[8]:5.2f}*origin_usa')"
   ]
  },
  {
   "cell_type": "code",
   "execution_count": 22,
   "metadata": {
    "id": "BLzcYAeRABu7"
   },
   "outputs": [],
   "source": [
    "dep_data_pred = model.predict(ind_data_test)"
   ]
  },
  {
   "cell_type": "code",
   "execution_count": 23,
   "metadata": {
    "colab": {
     "base_uri": "https://localhost:8080/"
    },
    "id": "mpl7EcJFAjn2",
    "outputId": "8cf1df5d-d741-4b95-92be-89168faf8ff9"
   },
   "outputs": [
    {
     "data": {
      "text/plain": [
       "0.8264725052859166"
      ]
     },
     "execution_count": 23,
     "metadata": {},
     "output_type": "execute_result"
    }
   ],
   "source": [
    "model.score(ind_data_train, dep_data_train)"
   ]
  },
  {
   "cell_type": "code",
   "execution_count": 24,
   "metadata": {
    "colab": {
     "base_uri": "https://localhost:8080/"
    },
    "id": "NkgXVzweAHmM",
    "outputId": "4ff0d91c-6363-467f-81ad-eab66f893b20"
   },
   "outputs": [
    {
     "data": {
      "text/plain": [
       "array([27.18313465, 27.1137765 , 34.42749367, 24.51965856, 28.1397483 ,\n",
       "       30.31792039,  8.62951145, 30.47504439, 20.52420346, 30.06210953,\n",
       "       12.59139672, 24.97140612, 16.82484156, 29.42205819, 22.90419684,\n",
       "       28.84473973, 20.23904278, 33.21744527, 26.3233558 , 31.30754596,\n",
       "       18.78553805, 36.12013685, 35.34586703, 14.953345  , 29.77516512,\n",
       "       26.81434277, 22.22342237, 15.99675866, 30.27826644, 25.45699696,\n",
       "       13.45684638, 23.53661524, 20.76892542, 31.75165735, 12.54405065,\n",
       "       36.09787267, 10.67248113, 23.9174239 , 11.29079807,  6.65002263,\n",
       "       12.83716005, 28.85312918, 36.21492323, 27.65478144, 11.99848941,\n",
       "        9.73691626, 17.62336429, 32.76504392, 24.15900237, 31.58071812,\n",
       "       11.92173725, 26.14195764, 22.78567079, 34.97302622, 28.28391249,\n",
       "       17.74497792, 20.35115337, 22.73603938, 23.84570627, 25.61791238,\n",
       "        8.39023181, 22.78697021, 25.43646287, 24.56508375, 29.71308886,\n",
       "       30.11798192, 25.40369633, 30.79426393, 21.81711467, 10.1161336 ,\n",
       "       22.53771181, 13.14549109, 26.54743282, 27.40936813, 24.23516233,\n",
       "       23.60482397, 14.12237479, 14.76549532, 25.35432899, 20.28816857,\n",
       "       24.64720982, 21.07133799, 12.23199779, 32.70849517, 15.39303678,\n",
       "       35.53025341, 26.67406055, 23.27953992, 16.78978042, 16.88594805,\n",
       "       25.18564025, 28.24819728, 32.40098352, 28.9803037 , 21.11262984,\n",
       "       19.26920423, 21.60894866,  9.99139979, 29.4038303 , 19.12142143,\n",
       "        9.58014867, 16.3568058 ,  9.97322678, 28.65004312, 29.18101927,\n",
       "       31.84197778, 36.79821346, 25.04657529, 24.27044861, 20.10926728,\n",
       "       36.26688037, 33.93370251, 23.59263639, 22.50360099, 34.35338079,\n",
       "       30.9651174 , 19.70520862, 22.51142685])"
      ]
     },
     "execution_count": 24,
     "metadata": {},
     "output_type": "execute_result"
    }
   ],
   "source": [
    "dep_data_pred"
   ]
  },
  {
   "cell_type": "code",
   "execution_count": 25,
   "metadata": {
    "colab": {
     "base_uri": "https://localhost:8080/"
    },
    "id": "mqz6GjxtAT7f",
    "outputId": "a70fd5cf-a138-4173-d6fb-30ef677fcbb2"
   },
   "outputs": [
    {
     "data": {
      "text/plain": [
       "79     26.0\n",
       "276    21.6\n",
       "248    36.1\n",
       "56     26.0\n",
       "393    27.0\n",
       "       ... \n",
       "80     22.0\n",
       "312    37.2\n",
       "357    32.9\n",
       "250    19.4\n",
       "155    15.0\n",
       "Name: mpg, Length: 118, dtype: float64"
      ]
     },
     "execution_count": 25,
     "metadata": {},
     "output_type": "execute_result"
    }
   ],
   "source": [
    "dep_data_test"
   ]
  },
  {
   "cell_type": "code",
   "execution_count": 26,
   "metadata": {
    "colab": {
     "base_uri": "https://localhost:8080/",
     "height": 206
    },
    "id": "XH9xyA3BAVVn",
    "outputId": "9894a15e-b3f8-45b5-865d-7de5eec8c057"
   },
   "outputs": [
    {
     "data": {
      "text/html": [
       "<div>\n",
       "<style scoped>\n",
       "    .dataframe tbody tr th:only-of-type {\n",
       "        vertical-align: middle;\n",
       "    }\n",
       "\n",
       "    .dataframe tbody tr th {\n",
       "        vertical-align: top;\n",
       "    }\n",
       "\n",
       "    .dataframe thead th {\n",
       "        text-align: right;\n",
       "    }\n",
       "</style>\n",
       "<table border=\"1\" class=\"dataframe\">\n",
       "  <thead>\n",
       "    <tr style=\"text-align: right;\">\n",
       "      <th></th>\n",
       "      <th>Predicted</th>\n",
       "      <th>Actual</th>\n",
       "      <th>Residual</th>\n",
       "    </tr>\n",
       "  </thead>\n",
       "  <tbody>\n",
       "    <tr>\n",
       "      <th>79</th>\n",
       "      <td>27.183135</td>\n",
       "      <td>26.0</td>\n",
       "      <td>-1.183135</td>\n",
       "    </tr>\n",
       "    <tr>\n",
       "      <th>276</th>\n",
       "      <td>27.113777</td>\n",
       "      <td>21.6</td>\n",
       "      <td>-5.513777</td>\n",
       "    </tr>\n",
       "    <tr>\n",
       "      <th>248</th>\n",
       "      <td>34.427494</td>\n",
       "      <td>36.1</td>\n",
       "      <td>1.672506</td>\n",
       "    </tr>\n",
       "    <tr>\n",
       "      <th>56</th>\n",
       "      <td>24.519659</td>\n",
       "      <td>26.0</td>\n",
       "      <td>1.480341</td>\n",
       "    </tr>\n",
       "    <tr>\n",
       "      <th>393</th>\n",
       "      <td>28.139748</td>\n",
       "      <td>27.0</td>\n",
       "      <td>-1.139748</td>\n",
       "    </tr>\n",
       "  </tbody>\n",
       "</table>\n",
       "</div>"
      ],
      "text/plain": [
       "     Predicted  Actual  Residual\n",
       "79   27.183135    26.0 -1.183135\n",
       "276  27.113777    21.6 -5.513777\n",
       "248  34.427494    36.1  1.672506\n",
       "56   24.519659    26.0  1.480341\n",
       "393  28.139748    27.0 -1.139748"
      ]
     },
     "execution_count": 26,
     "metadata": {},
     "output_type": "execute_result"
    }
   ],
   "source": [
    "#create dataframe for the stuls of predicted (y_pred), actual(y_test) and the residual error(y_test-y_pred)\n",
    "result_df=pd.DataFrame({'Predicted': dep_data_pred, 'Actual': dep_data_test, 'Residual': dep_data_test - dep_data_pred})\n",
    "result_df.head()"
   ]
  },
  {
   "cell_type": "code",
   "execution_count": 27,
   "metadata": {
    "colab": {
     "base_uri": "https://localhost:8080/",
     "height": 301
    },
    "id": "aIroJhTRGPIC",
    "outputId": "509f0a3a-9ad7-4497-aef0-f6e6c26d84cb"
   },
   "outputs": [
    {
     "data": {
      "image/png": "[encoded data removed]",
      "text/plain": [
       "<Figure size 432x288 with 1 Axes>"
      ]
     },
     "metadata": {},
     "output_type": "display_data"
    }
   ],
   "source": [
    "plt.scatter(ind_data_test[:,0], dep_data_test-dep_data_pred, label='Testing Data')\n",
    "plt.xlabel(\"MPG\")\n",
    "plt.ylabel(\"Residual\")\n",
    "plt.title(\"Multiple Regression Plot (Model Residual)\");"
   ]
  },
  {
   "cell_type": "markdown",
   "metadata": {
    "id": "tGd2XnJP9vtW"
   },
   "source": [
    "### **Calculate MSE and RMSE for the MLR model**\n",
    "- First cacluate the results using model.predict and use metrics package for calculation\n",
    "- In a separate text cell interpert the RMSE value"
   ]
  },
  {
   "cell_type": "code",
   "execution_count": 28,
   "metadata": {
    "id": "HDoZF9oG9t1Y"
   },
   "outputs": [],
   "source": [
    "from sklearn import metrics"
   ]
  },
  {
   "cell_type": "code",
   "execution_count": 29,
   "metadata": {
    "colab": {
     "base_uri": "https://localhost:8080/"
    },
    "id": "EwsCT4wOBXk8",
    "outputId": "612f62aa-d72a-4a88-e067-7aa84c10aaf8"
   },
   "outputs": [
    {
     "name": "stdout",
     "output_type": "stream",
     "text": [
      "MSE: 10.344169215429364\n"
     ]
    }
   ],
   "source": [
    "print('MSE:', metrics.mean_squared_error(dep_data_test,dep_data_pred))"
   ]
  },
  {
   "cell_type": "code",
   "execution_count": 30,
   "metadata": {
    "colab": {
     "base_uri": "https://localhost:8080/"
    },
    "id": "lKqXgGtgBbH1",
    "outputId": "85ed7107-7a42-4447-ae2d-47c051b78670"
   },
   "outputs": [
    {
     "name": "stdout",
     "output_type": "stream",
     "text": [
      "RSME: 3.2162352549882547\n"
     ]
    }
   ],
   "source": [
    "print('RSME:', np.sqrt(metrics.mean_squared_error(dep_data_test,dep_data_pred)))"
   ]
  },
  {
   "cell_type": "markdown",
   "metadata": {
    "id": "3VpOjoH1_po4"
   },
   "source": [
    "### **Build a decision tree model and fine tune `max_depth` hyperparameter to provide optimum values for (R2, MSE, RMSE).**\n",
    "- In a separate text cell discuss the process and the results compared to MLR model."
   ]
  },
  {
   "cell_type": "code",
   "execution_count": 52,
   "metadata": {
    "colab": {
     "base_uri": "https://localhost:8080/",
     "height": 380
    },
    "id": "J8wSTy9s-EL2",
    "outputId": "4aa9f2b2-326d-40d7-f745-f6ff7619309b"
   },
   "outputs": [
    {
     "name": "stdout",
     "output_type": "stream",
     "text": [
      "1.0\n",
      "15\n"
     ]
    }
   ],
   "source": [
    "from sklearn.tree import DecisionTreeRegressor\n",
    "#Fit regression model\n",
    "min =DecisionTreeRegressor(max_depth=1).fit(ind_data_train, dep_data_train).score(ind_data_train, dep_data_train)\n",
    "epsilon = .000001\n",
    "temp = 0\n",
    "iter = 50\n",
    "r = np.zeros(iter)\n",
    "for i in range(iter):\n",
    "    reg = DecisionTreeRegressor(max_depth=i+1).fit(ind_data_train, dep_data_train)\n",
    "    r[i] = reg.score(ind_data_train, dep_data_train)\n",
    "  \n",
    "    if(epsilon<abs(r[i]-min)):\n",
    "        min =r[i]\n",
    "        temp =i\n",
    "    #print(min)\n",
    "print(min)\n",
    "print(temp)\n"
   ]
  },
  {
   "cell_type": "code",
   "execution_count": 45,
   "metadata": {
    "id": "grF2R7JrNPHf"
   },
   "outputs": [
    {
     "data": {
      "text/plain": [
       "array([0.60637062, 0.75953461, 0.84071889, 0.89809886, 0.93791138,\n",
       "       0.96028094, 0.97722682, 0.98729379, 0.99499198, 0.99874643,\n",
       "       0.99962212, 0.99989242, 0.99992362, 0.99996124, 0.99999848,\n",
       "       1.        , 1.        , 1.        , 1.        , 1.        ,\n",
       "       1.        , 1.        , 1.        , 1.        , 1.        ,\n",
       "       1.        , 1.        , 1.        , 1.        , 1.        ,\n",
       "       1.        , 1.        , 1.        , 1.        , 1.        ,\n",
       "       1.        , 1.        , 1.        , 1.        , 1.        ,\n",
       "       1.        , 1.        , 1.        , 1.        , 1.        ,\n",
       "       1.        , 1.        , 1.        , 1.        , 1.        ])"
      ]
     },
     "execution_count": 45,
     "metadata": {},
     "output_type": "execute_result"
    }
   ],
   "source": [
    "r"
   ]
  }
 ],
 "metadata": {
  "colab": {
   "collapsed_sections": [],
   "name": "Copy of Predictive Analytics Assignment",
   "provenance": []
  },
  "kernelspec": {
   "display_name": "Python 3 (ipykernel)",
   "language": "python",
   "name": "python3"
  },
  "language_info": {
   "codemirror_mode": {
    "name": "ipython",
    "version": 3
   },
   "file_extension": ".py",
   "mimetype": "text/x-python",
   "name": "python",
   "nbconvert_exporter": "python",
   "pygments_lexer": "ipython3",
   "version": "3.9.7"
  }
 },
 "nbformat": 4,
 "nbformat_minor": 4
}
